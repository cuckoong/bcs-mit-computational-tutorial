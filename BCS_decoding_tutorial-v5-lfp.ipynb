{
 "cells": [
  {
   "cell_type": "markdown",
   "metadata": {},
   "source": [
    "# LFPs decoding \n",
    "## MIT - Brain and cognitive sciences April 2, 2019 - Computational tutorial\n",
    "\n",
    "### Code source: Omar Costilla-Reyes\n",
    "### License: BSD 3 clause"
   ]
  },
  {
   "cell_type": "code",
   "execution_count": 1,
   "metadata": {},
   "outputs": [],
   "source": [
    "#importing libraries\n",
    "import numpy as np\n",
    "import matplotlib.pyplot as plt\n",
    "import os\n",
    "from sklearn import svm\n",
    "from sklearn.ensemble import RandomForestClassifier\n",
    "from sklearn.preprocessing import StandardScaler\n",
    "import sklearn.ensemble\n",
    "from sklearn.metrics import make_scorer\n",
    "from sklearn.metrics import recall_score, precision_score, f1_score\n",
    "from sklearn.model_selection import cross_validate\n",
    "import matplotlib.ticker as ticker"
   ]
  },
  {
   "cell_type": "code",
   "execution_count": null,
   "metadata": {},
   "outputs": [],
   "source": [
    "#defining a scoring function for our machine learning models"
   ]
  },
  {
   "cell_type": "code",
   "execution_count": 2,
   "metadata": {},
   "outputs": [],
   "source": [
    "scoring = {'f_score motion': make_scorer(f1_score, average = None, labels = [0]),\n",
    "       'f_score color': make_scorer(f1_score, average = None, labels = [1])}"
   ]
  },
  {
   "cell_type": "code",
   "execution_count": 3,
   "metadata": {},
   "outputs": [],
   "source": [
    "#specify the session of the experiment\n",
    "session = '110120'"
   ]
  },
  {
   "cell_type": "code",
   "execution_count": 4,
   "metadata": {},
   "outputs": [],
   "source": [
    "#this is the color data\n",
    "X_color = np.load('X_color_PFC_V4_lfp_' + session + '.npy')\n",
    "#area labels for the electrodes (match with data)\n",
    "y_color_elect = np.load('y_color_PFC_V4_lfp_' + session + '.npy')"
   ]
  },
  {
   "cell_type": "code",
   "execution_count": 6,
   "metadata": {},
   "outputs": [
    {
     "name": "stdout",
     "output_type": "stream",
     "text": [
      "X_color.shape\n",
      "(47, 372, 800)\n",
      "#electrodes, #trials, #features (time)\n"
     ]
    }
   ],
   "source": [
    "print('X_color.shape')\n",
    "print(X_color.shape)\n",
    "print('#electrodes, #trials, #features (time)')\n",
    "#preprocessing: downsampled from 2500 to 800"
   ]
  },
  {
   "cell_type": "code",
   "execution_count": 7,
   "metadata": {},
   "outputs": [
    {
     "name": "stdout",
     "output_type": "stream",
     "text": [
      "Color data has nan?\n",
      "False\n"
     ]
    }
   ],
   "source": [
    "print('Color data has nan?')\n",
    "print(np.isnan(X_color).any())"
   ]
  },
  {
   "cell_type": "code",
   "execution_count": 8,
   "metadata": {},
   "outputs": [
    {
     "name": "stdout",
     "output_type": "stream",
     "text": [
      "y_color_elect.shape\n",
      "(47,)\n",
      "(array(['PFC', 'V4'], dtype='<U3'), array([36, 11], dtype=int64))\n"
     ]
    }
   ],
   "source": [
    "print('y_color_elect.shape')\n",
    "print(y_color_elect.shape)\n",
    "print(np.unique(y_color_elect, return_counts=True))"
   ]
  },
  {
   "cell_type": "code",
   "execution_count": 9,
   "metadata": {},
   "outputs": [],
   "source": [
    "#this is the motion data\n",
    "X_motion = np.load('X_motion_PFC_V4_lfp_' + session + '.npy')\n",
    "#area labels for the electrodes (match with data)\n",
    "y_motion_elect = np.load('y_motion_PFC_V4_lfp_' + session + '.npy')"
   ]
  },
  {
   "cell_type": "code",
   "execution_count": 10,
   "metadata": {},
   "outputs": [
    {
     "name": "stdout",
     "output_type": "stream",
     "text": [
      "X_motion.shape\n",
      "(47, 370, 800)\n",
      "#electrodes, #trials, #features (time)\n"
     ]
    }
   ],
   "source": [
    "print('X_motion.shape')\n",
    "print(X_motion.shape)\n",
    "print('#electrodes, #trials, #features (time)')"
   ]
  },
  {
   "cell_type": "code",
   "execution_count": 11,
   "metadata": {},
   "outputs": [
    {
     "name": "stdout",
     "output_type": "stream",
     "text": [
      "Motion data has nan?\n",
      "False\n"
     ]
    }
   ],
   "source": [
    "print('Motion data has nan?')\n",
    "print(np.isnan(X_motion).any())"
   ]
  },
  {
   "cell_type": "code",
   "execution_count": 12,
   "metadata": {},
   "outputs": [
    {
     "name": "stdout",
     "output_type": "stream",
     "text": [
      "y_motion_elect.shape\n",
      "(47,)\n",
      "(array(['PFC', 'V4'], dtype='<U3'), array([36, 11], dtype=int64))\n"
     ]
    }
   ],
   "source": [
    "print('y_motion_elect.shape')\n",
    "print(y_motion_elect.shape)\n",
    "print(np.unique(y_motion_elect, return_counts=True))"
   ]
  },
  {
   "cell_type": "code",
   "execution_count": 16,
   "metadata": {},
   "outputs": [
    {
     "name": "stdout",
     "output_type": "stream",
     "text": [
      "color rule\n",
      "X_rule_PFC.shape\n",
      "(36, 372, 800)\n",
      "X_rule_V4.shape\n",
      "(11, 372, 800)\n"
     ]
    },
    {
     "data": {
      "image/png": "[encoded data removed]",
      "text/plain": [
       "<Figure size 432x288 with 1 Axes>"
      ]
     },
     "metadata": {
      "needs_background": "light"
     },
     "output_type": "display_data"
    },
    {
     "name": "stdout",
     "output_type": "stream",
     "text": [
      "motion rule\n",
      "X_rule_PFC.shape\n",
      "(36, 370, 800)\n",
      "X_rule_V4.shape\n",
      "(11, 370, 800)\n"
     ]
    },
    {
     "data": {
      "image/png": "[encoded data removed]",
      "text/plain": [
       "<Figure size 432x288 with 1 Axes>"
      ]
     },
     "metadata": {
      "needs_background": "light"
     },
     "output_type": "display_data"
    }
   ],
   "source": [
    "def plot_raw(X_rule, y_rule_elect, electrode, num_trials, rule, time):\n",
    "    X_rule_PFC = X_rule[y_rule_elect == 'PFC']\n",
    "    X_rule_V4 = X_rule[y_rule_elect == 'V4']\n",
    "\n",
    "    print(rule  + ' rule')\n",
    "    print('X_rule_PFC.shape')\n",
    "    print(X_rule_PFC.shape)\n",
    "    print('X_rule_V4.shape')\n",
    "    print(X_rule_V4.shape)\n",
    "\n",
    "    #plotting some of the data to see what is going on inside the \n",
    "    #plt.plot(X_rule_PFC[0], c='darkorchid')\n",
    "\n",
    "    for i, trial in enumerate(X_rule_PFC[electrode][:num_trials]):\n",
    "        plt.plot(time, trial, c='blue', label='PFC' if i == 0 else \"\")\n",
    "\n",
    "    for i, trial in enumerate(X_rule_V4[electrode][:num_trials]):\n",
    "        plt.plot(time, trial, c='c', label='V4' if i == 0 else \"\")\n",
    "        \n",
    "    plt.grid(which='both')\n",
    "    plt.legend(loc='upper right')\n",
    "    plt.title('Raw LFP ' + str(num_trials) + ' trials ' + rule + ' rule')\n",
    "    plt.show()\n",
    "\n",
    "#defining the time vector\n",
    "time = np.linspace(0, 2500, num=X_motion.shape[2])\n",
    "\n",
    "electrode = 5\n",
    "num_trials = 1\n",
    "rule = 'color'\n",
    "plot_raw(X_color, y_color_elect, electrode, num_trials, rule, time)\n",
    "\n",
    "rule = 'motion'\n",
    "plot_raw(X_motion, y_motion_elect, electrode, num_trials, rule, time)"
   ]
  },
  {
   "cell_type": "code",
   "execution_count": 17,
   "metadata": {},
   "outputs": [
    {
     "name": "stdout",
     "output_type": "stream",
     "text": [
      "['PFC' 'V4']\n"
     ]
    }
   ],
   "source": [
    "all_areas = np.unique(y_color_elect) \n",
    "#can be motion (share the same number of areas, since they where adquired at the same session)\n",
    "print(all_areas)"
   ]
  },
  {
   "cell_type": "code",
   "execution_count": 18,
   "metadata": {},
   "outputs": [],
   "source": [
    "area = 'PFC'"
   ]
  },
  {
   "cell_type": "code",
   "execution_count": 19,
   "metadata": {},
   "outputs": [],
   "source": [
    "#defining the time window to train the model\n",
    "time_window = 50\n",
    "#crossvalidation\n",
    "cv = 5\n",
    "#folder\n",
    "model_name = 'svm_linear'\n",
    "folder = 'lfp_analysis_motion_color_cv_' + str(cv) + '_'+ model_name +'_'+ str(time_window) + 'ms_' + session + '_' + area +'/'\n",
    "if not os.path.exists(folder):\n",
    "    os.makedirs(folder)"
   ]
  },
  {
   "cell_type": "code",
   "execution_count": 20,
   "metadata": {},
   "outputs": [],
   "source": [
    "#clf = sklearn.ensemble.ExtraTreesClassifier(n_jobs=-1, n_estimators=50)\n",
    "# print(clf)\n",
    "clf = svm.LinearSVC()"
   ]
  },
  {
   "cell_type": "code",
   "execution_count": 23,
   "metadata": {},
   "outputs": [],
   "source": [
    "#?clf"
   ]
  },
  {
   "cell_type": "code",
   "execution_count": 24,
   "metadata": {},
   "outputs": [
    {
     "name": "stdout",
     "output_type": "stream",
     "text": [
      "All area motion shape (neurons x trials x time domain (features))\n",
      "(47, 370, 800)\n",
      "Current area motion shape (neurons x trials x time domain (features))\n",
      "(36, 370, 800)\n"
     ]
    }
   ],
   "source": [
    "#using fancy indexing to extract electrode data (and its trails from an area)\n",
    "print('All area motion shape (neurons x trials x time domain (features))')\n",
    "print(X_motion.shape)\n",
    "X_motion_area = X_motion[y_motion_elect == area]\n",
    "print('Current area motion shape (neurons x trials x time domain (features))')\n",
    "print(X_motion_area.shape)"
   ]
  },
  {
   "cell_type": "code",
   "execution_count": 38,
   "metadata": {},
   "outputs": [
    {
     "name": "stdout",
     "output_type": "stream",
     "text": [
      "(370, 36, 800)\n"
     ]
    }
   ],
   "source": [
    "#rolling the trials axis first, since we are going to classify motion/color given the trials samples\n",
    "X_motion_area = np.rollaxis(X_motion_area, 1, 0)\n",
    "print(X_motion_area.shape)"
   ]
  },
  {
   "cell_type": "code",
   "execution_count": 39,
   "metadata": {},
   "outputs": [
    {
     "name": "stdout",
     "output_type": "stream",
     "text": [
      "(array([0]), array([370], dtype=int64))\n"
     ]
    }
   ],
   "source": [
    "#generating the labels for motion from the length of the trials (samples)\n",
    "y_motion_area = np.repeat(0,int(X_motion_area.shape[0]))\n",
    "print(np.unique(y_motion_area, return_counts=True))"
   ]
  },
  {
   "cell_type": "code",
   "execution_count": 29,
   "metadata": {},
   "outputs": [],
   "source": [
    "#color processing"
   ]
  },
  {
   "cell_type": "code",
   "execution_count": 40,
   "metadata": {},
   "outputs": [
    {
     "name": "stdout",
     "output_type": "stream",
     "text": [
      "(36, 372, 800)\n"
     ]
    }
   ],
   "source": [
    "#using fancy indexing to extract electrode data (and its trails from an area)\n",
    "X_color_area = X_color[y_color_elect == area]\n",
    "print(X_color_area.shape)"
   ]
  },
  {
   "cell_type": "code",
   "execution_count": 41,
   "metadata": {},
   "outputs": [
    {
     "name": "stdout",
     "output_type": "stream",
     "text": [
      "(372, 36, 800)\n"
     ]
    }
   ],
   "source": [
    "#rolling the trials axis first\n",
    "X_color_area = np.rollaxis(X_color_area, 1, 0)\n",
    "print(X_color_area.shape)"
   ]
  },
  {
   "cell_type": "code",
   "execution_count": 42,
   "metadata": {},
   "outputs": [
    {
     "name": "stdout",
     "output_type": "stream",
     "text": [
      "(array([1]), array([372], dtype=int64))\n"
     ]
    }
   ],
   "source": [
    "#generating the labels for color from the length of the trials (samples)\n",
    "y_color_area = np.repeat(1,int(X_color_area.shape[0]))\n",
    "print(np.unique(y_color_area, return_counts=True))"
   ]
  },
  {
   "cell_type": "code",
   "execution_count": 43,
   "metadata": {},
   "outputs": [
    {
     "name": "stdout",
     "output_type": "stream",
     "text": [
      "(370, 36, 800)\n",
      "(372, 36, 800)\n"
     ]
    }
   ],
   "source": [
    "'motion and color area shapes'\n",
    "print(X_motion_area.shape)\n",
    "print(X_color_area.shape)"
   ]
  },
  {
   "cell_type": "code",
   "execution_count": 45,
   "metadata": {},
   "outputs": [
    {
     "name": "stdout",
     "output_type": "stream",
     "text": [
      "X_motion_color_area.shape \n",
      "(trials x neurons x time domain)\n",
      "(742, 36, 800)\n"
     ]
    }
   ],
   "source": [
    "#concatenating motion and color by the trials\n",
    "X_motion_color_area = np.concatenate((X_motion_area, X_color_area), axis=0)\n",
    "print('X_motion_color_area.shape \\n(trials x neurons x time domain)')\n",
    "print(X_motion_color_area.shape)"
   ]
  },
  {
   "cell_type": "code",
   "execution_count": 47,
   "metadata": {},
   "outputs": [
    {
     "name": "stdout",
     "output_type": "stream",
     "text": [
      "(array([0, 1]), array([370, 372], dtype=int64))\n",
      "[0 0 0 0 0 0 0 0 0 0 0 0 0 0 0 0 0 0 0 0 0 0 0 0 0 0 0 0 0 0 0 0 0 0 0 0 0\n",
      " 0 0 0 0 0 0 0 0 0 0 0 0 0 0 0 0 0 0 0 0 0 0 0 0 0 0 0 0 0 0 0 0 0 0 0 0 0\n",
      " 0 0 0 0 0 0 0 0 0 0 0 0 0 0 0 0 0 0 0 0 0 0 0 0 0 0 0 0 0 0 0 0 0 0 0 0 0\n",
      " 0 0 0 0 0 0 0 0 0 0 0 0 0 0 0 0 0 0 0 0 0 0 0 0 0 0 0 0 0 0 0 0 0 0 0 0 0\n",
      " 0 0 0 0 0 0 0 0 0 0 0 0 0 0 0 0 0 0 0 0 0 0 0 0 0 0 0 0 0 0 0 0 0 0 0 0 0\n",
      " 0 0 0 0 0 0 0 0 0 0 0 0 0 0 0 0 0 0 0 0 0 0 0 0 0 0 0 0 0 0 0 0 0 0 0 0 0\n",
      " 0 0 0 0 0 0 0 0 0 0 0 0 0 0 0 0 0 0 0 0 0 0 0 0 0 0 0 0 0 0 0 0 0 0 0 0 0\n",
      " 0 0 0 0 0 0 0 0 0 0 0 0 0 0 0 0 0 0 0 0 0 0 0 0 0 0 0 0 0 0 0 0 0 0 0 0 0\n",
      " 0 0 0 0 0 0 0 0 0 0 0 0 0 0 0 0 0 0 0 0 0 0 0 0 0 0 0 0 0 0 0 0 0 0 0 0 0\n",
      " 0 0 0 0 0 0 0 0 0 0 0 0 0 0 0 0 0 0 0 0 0 0 0 0 0 0 0 0 0 0 0 0 0 0 0 0 0\n",
      " 1 1 1 1 1 1 1 1 1 1 1 1 1 1 1 1 1 1 1 1 1 1 1 1 1 1 1 1 1 1 1 1 1 1 1 1 1\n",
      " 1 1 1 1 1 1 1 1 1 1 1 1 1 1 1 1 1 1 1 1 1 1 1 1 1 1 1 1 1 1 1 1 1 1 1 1 1\n",
      " 1 1 1 1 1 1 1 1 1 1 1 1 1 1 1 1 1 1 1 1 1 1 1 1 1 1 1 1 1 1 1 1 1 1 1 1 1\n",
      " 1 1 1 1 1 1 1 1 1 1 1 1 1 1 1 1 1 1 1 1 1 1 1 1 1 1 1 1 1 1 1 1 1 1 1 1 1\n",
      " 1 1 1 1 1 1 1 1 1 1 1 1 1 1 1 1 1 1 1 1 1 1 1 1 1 1 1 1 1 1 1 1 1 1 1 1 1\n",
      " 1 1 1 1 1 1 1 1 1 1 1 1 1 1 1 1 1 1 1 1 1 1 1 1 1 1 1 1 1 1 1 1 1 1 1 1 1\n",
      " 1 1 1 1 1 1 1 1 1 1 1 1 1 1 1 1 1 1 1 1 1 1 1 1 1 1 1 1 1 1 1 1 1 1 1 1 1\n",
      " 1 1 1 1 1 1 1 1 1 1 1 1 1 1 1 1 1 1 1 1 1 1 1 1 1 1 1 1 1 1 1 1 1 1 1 1 1\n",
      " 1 1 1 1 1 1 1 1 1 1 1 1 1 1 1 1 1 1 1 1 1 1 1 1 1 1 1 1 1 1 1 1 1 1 1 1 1\n",
      " 1 1 1 1 1 1 1 1 1 1 1 1 1 1 1 1 1 1 1 1 1 1 1 1 1 1 1 1 1 1 1 1 1 1 1 1 1\n",
      " 1 1]\n"
     ]
    }
   ],
   "source": [
    "y_motion_color_area = np.concatenate((y_motion_area, y_color_area))\n",
    "print(np.unique(y_motion_color_area, return_counts=True))\n",
    "print(y_motion_color_area)"
   ]
  },
  {
   "cell_type": "code",
   "execution_count": 49,
   "metadata": {},
   "outputs": [
    {
     "name": "stdout",
     "output_type": "stream",
     "text": [
      "800\n",
      "50\n"
     ]
    }
   ],
   "source": [
    "#split our data array into windows arrays\n",
    "print(X_motion_color_area.shape[2])\n",
    "print(time_window)"
   ]
  },
  {
   "cell_type": "code",
   "execution_count": 50,
   "metadata": {},
   "outputs": [],
   "source": [
    "split_area_windows = np.array_split(X_motion_color_area, X_motion_color_area.shape[2]/time_window, axis=2)"
   ]
  },
  {
   "cell_type": "code",
   "execution_count": 51,
   "metadata": {},
   "outputs": [
    {
     "name": "stdout",
     "output_type": "stream",
     "text": [
      "split_area_windows info\n",
      "<class 'list'>\n",
      "length 16\n",
      "element #0\n",
      "(742, 36, 50)\n",
      "element #1\n",
      "(742, 36, 50)\n",
      "element #2\n",
      "(742, 36, 50)\n",
      "element #3\n",
      "(742, 36, 50)\n",
      "element #4\n",
      "(742, 36, 50)\n",
      "element #5\n",
      "(742, 36, 50)\n",
      "element #6\n",
      "(742, 36, 50)\n",
      "element #7\n",
      "(742, 36, 50)\n",
      "element #8\n",
      "(742, 36, 50)\n",
      "element #9\n",
      "(742, 36, 50)\n",
      "element #10\n",
      "(742, 36, 50)\n",
      "element #11\n",
      "(742, 36, 50)\n",
      "element #12\n",
      "(742, 36, 50)\n",
      "element #13\n",
      "(742, 36, 50)\n",
      "element #14\n",
      "(742, 36, 50)\n",
      "element #15\n",
      "(742, 36, 50)\n"
     ]
    }
   ],
   "source": [
    "#what has been created?\n",
    "print('split_area_windows info')\n",
    "print(type(split_area_windows))\n",
    "print('length ' + str(len(split_area_windows)))\n",
    "#iterate over the first five element\n",
    "for i, window in enumerate(split_area_windows):\n",
    "    print('element #' + str(i) )\n",
    "    print(window.shape)"
   ]
  },
  {
   "cell_type": "code",
   "execution_count": 52,
   "metadata": {},
   "outputs": [
    {
     "name": "stdout",
     "output_type": "stream",
     "text": [
      "[  50.          213.33333333  376.66666667  540.          703.33333333\n",
      "  866.66666667 1030.         1193.33333333 1356.66666667 1520.\n",
      " 1683.33333333 1846.66666667 2010.         2173.33333333 2336.66666667\n",
      " 2500.        ]\n"
     ]
    }
   ],
   "source": [
    "#defining the time vector\n",
    "time = np.linspace(50, 2500, num=len(split_area_windows))\n",
    "print(time)"
   ]
  },
  {
   "cell_type": "code",
   "execution_count": 53,
   "metadata": {},
   "outputs": [],
   "source": [
    "#modelling\n",
    "#we have the data ready now for processing in the machine learning algorithms!\n",
    "\n",
    "#for the modelling results wee are interested in the f-score (f1-score) metric\n",
    "#?f1_score\n",
    "\n",
    "#we are going to obtian the mean and the standard deviation of the folds f-scores in our modelling part"
   ]
  },
  {
   "cell_type": "code",
   "execution_count": 54,
   "metadata": {},
   "outputs": [],
   "source": [
    "def cross_validate_clf(split_area_windows, y_motion_color_area, cv, scoring, clf, folder, area):\n",
    "    color_f_score = []\n",
    "    motion_f_score = []\n",
    "\n",
    "    color_f_score_std = []\n",
    "    motion_f_score_std = []\n",
    "\n",
    "    j = 0\n",
    "    for X_window in split_area_windows:\n",
    "        j = j+1\n",
    "        print('Window iteration #' + str(j))\n",
    "        print('window shape of current iteration')\n",
    "        print(X_window.shape)\n",
    "        #reshaping the array for samples = trials features = electrodes by time features\n",
    "        X_window  = np.reshape((X_window), (X_window.shape[0], X_window.shape[1]* X_window.shape[2]))\n",
    "        #scikit learn function to crossvalidate\n",
    "        #array of the form samples x features 2D = X_window\n",
    "        out = cross_validate(clf, X_window, y_motion_color_area, scoring=scoring, cv=cv, return_train_score=False, n_jobs=-1)\n",
    "        i = 0\n",
    "        num_elements_cv = len(out)\n",
    "        #iterating over the dictionary\n",
    "        for key, value in out.items():\n",
    "            i = i + 1\n",
    "            print('crossvalidation  value #' + str(i))\n",
    "            print(key)\n",
    "            print(value)\n",
    "            if i == num_elements_cv-1:\n",
    "                #calculating the mean of the crossvalidation results\n",
    "                motion_f_score.append(np.average(value))\n",
    "                #calculating the standard deviation of the crossvalidated results\n",
    "                motion_f_score_std.append(np.std(value))\n",
    "    #             print('motion_f_score')\n",
    "    #             print(motion_f_score)\n",
    "            if i == num_elements_cv:\n",
    "                color_f_score.append(np.average(value))\n",
    "                color_f_score_std.append(np.std(value))\n",
    "    #             print('color_f_score')\n",
    "    #             print(color_f_score)\n",
    "\n",
    "    #transforming lists to numpy arrays\n",
    "    motion_f_score = np.array([motion_f_score])\n",
    "    motion_f_score = motion_f_score[0]\n",
    "\n",
    "    color_f_score = np.array([color_f_score])\n",
    "    color_f_score = color_f_score[0]\n",
    "\n",
    "    motion_f_score_std = np.array([motion_f_score_std])\n",
    "    motion_f_score_std = motion_f_score_std[0]\n",
    "\n",
    "    color_f_score_std = np.array([color_f_score_std])\n",
    "    color_f_score_std = color_f_score_std[0]\n",
    "\n",
    "    #saving the results of the current modelling for future use (and not need to re run again)\n",
    "    np.savetxt(folder + area + '_motion_score_' + str(time_window) + 'ms_window.txt', motion_f_score, fmt='%10.5f')\n",
    "    np.savetxt(folder + area + '_motion_score_std' + str(time_window) + 'ms_window.txt', motion_f_score_std, fmt='%10.5f')\n",
    "\n",
    "    np.savetxt(folder + area + '_color_score_' + str(time_window) + 'ms_window.txt', color_f_score, fmt='%10.5f')\n",
    "    np.savetxt(folder + area + '_color_score_std' + str(time_window) + 'ms_window.txt', color_f_score_std, fmt='%10.5f')\n",
    "\n",
    "    return motion_f_score, color_f_score, motion_f_score_std, color_f_score_std\n"
   ]
  },
  {
   "cell_type": "code",
   "execution_count": 55,
   "metadata": {},
   "outputs": [
    {
     "name": "stdout",
     "output_type": "stream",
     "text": [
      "Window iteration #1\n",
      "window shape of current iteration\n",
      "(742, 36, 50)\n",
      "crossvalidation  value #1\n",
      "fit_time\n",
      "[0.59061193 0.49694848 0.47798395 0.56475544 0.55278397]\n",
      "crossvalidation  value #2\n",
      "score_time\n",
      "[0.00299144 0.0069654  0.01496553 0.00690651 0.00498867]\n",
      "crossvalidation  value #3\n",
      "test_f_score motion\n",
      "[0.53061224 0.51948052 0.58441558 0.55172414 0.54166667]\n",
      "crossvalidation  value #4\n",
      "test_f_score color\n",
      "[0.54304636 0.48611111 0.54929577 0.56953642 0.56578947]\n",
      "Window iteration #2\n",
      "window shape of current iteration\n",
      "(742, 36, 50)\n",
      "crossvalidation  value #1\n",
      "fit_time\n",
      "[0.42739964 0.38053465 0.39612222 0.42739964 0.39612222]\n",
      "crossvalidation  value #2\n",
      "score_time\n",
      "[0.         0.01558757 0.         0.         0.        ]\n",
      "crossvalidation  value #3\n",
      "test_f_score motion\n",
      "[0.43609023 0.5        0.51655629 0.50666667 0.54545455]\n",
      "crossvalidation  value #4\n",
      "test_f_score color\n",
      "[0.54545455 0.50666667 0.49655172 0.49315068 0.5751634 ]\n",
      "Window iteration #3\n",
      "window shape of current iteration\n",
      "(742, 36, 50)\n",
      "crossvalidation  value #1\n",
      "fit_time\n",
      "[0.35497379 0.30842495 0.42391348 0.38501477 0.36207652]\n",
      "crossvalidation  value #2\n",
      "score_time\n",
      "[0.         0.00296474 0.00202394 0.00226617 0.00199485]\n",
      "crossvalidation  value #3\n",
      "test_f_score motion\n",
      "[0.46153846 0.52564103 0.52631579 0.53424658 0.51948052]\n",
      "crossvalidation  value #4\n",
      "test_f_score color\n",
      "[0.58333333 0.47887324 0.5        0.54666667 0.47887324]\n",
      "Window iteration #4\n",
      "window shape of current iteration\n",
      "(742, 36, 50)\n",
      "crossvalidation  value #1\n",
      "fit_time\n",
      "[0.70460176 0.70061374 0.69164181 0.74612045 0.70260644]\n",
      "crossvalidation  value #2\n",
      "score_time\n",
      "[0.0089767  0.00299144 0.00498056 0.         0.00299311]\n",
      "crossvalidation  value #3\n",
      "test_f_score motion\n",
      "[0.46666667 0.421875   0.46896552 0.53846154 0.54901961]\n",
      "crossvalidation  value #4\n",
      "test_f_score color\n",
      "[0.45945946 0.56470588 0.49006623 0.48571429 0.51748252]\n",
      "Window iteration #5\n",
      "window shape of current iteration\n",
      "(742, 36, 50)\n",
      "crossvalidation  value #1\n",
      "fit_time\n",
      "[0.36039925 0.36039925 0.33965135 0.36046624 0.30205774]\n",
      "crossvalidation  value #2\n",
      "score_time\n",
      "[0.         0.         0.00201964 0.         0.0155766 ]\n",
      "crossvalidation  value #3\n",
      "test_f_score motion\n",
      "[0.77165354 0.76510067 0.75862069 0.77707006 0.74390244]\n",
      "crossvalidation  value #4\n",
      "test_f_score color\n",
      "[0.83040936 0.76510067 0.76821192 0.74820144 0.68181818]\n",
      "Window iteration #6\n",
      "window shape of current iteration\n",
      "(742, 36, 50)\n",
      "crossvalidation  value #1\n",
      "fit_time\n",
      "[0.33617353 0.33518338 0.31856346 0.3488369  0.31659532]\n",
      "crossvalidation  value #2\n",
      "score_time\n",
      "[0. 0. 0. 0. 0.]\n",
      "crossvalidation  value #3\n",
      "test_f_score motion\n",
      "[0.95833333 0.86896552 0.91390728 0.91612903 0.91139241]\n",
      "crossvalidation  value #4\n",
      "test_f_score color\n",
      "[0.96103896 0.87581699 0.91034483 0.90780142 0.89855072]\n",
      "Window iteration #7\n",
      "window shape of current iteration\n",
      "(742, 36, 50)\n",
      "crossvalidation  value #1\n",
      "fit_time\n",
      "[0.46791577 0.44098735 0.48920298 0.48923278 0.44733357]\n",
      "crossvalidation  value #2\n",
      "score_time\n",
      "[0.00899839 0.00698113 0.         0.         0.0089798 ]\n",
      "crossvalidation  value #3\n",
      "test_f_score motion\n",
      "[0.90540541 0.83116883 0.89333333 0.90140845 0.82894737]\n",
      "crossvalidation  value #4\n",
      "test_f_score color\n",
      "[0.90666667 0.81944444 0.89041096 0.90909091 0.81944444]\n",
      "Window iteration #8\n",
      "window shape of current iteration\n",
      "(742, 36, 50)\n",
      "crossvalidation  value #1\n",
      "fit_time\n",
      "[0.43907762 0.41402221 0.45611024 0.43907762 0.41193008]\n",
      "crossvalidation  value #2\n",
      "score_time\n",
      "[0.00299263 0.         0.         0.00398707 0.00209212]\n",
      "crossvalidation  value #3\n",
      "test_f_score motion\n",
      "[0.82580645 0.77777778 0.76712329 0.80536913 0.71724138]\n",
      "crossvalidation  value #4\n",
      "test_f_score color\n",
      "[0.81118881 0.79220779 0.77333333 0.80272109 0.72847682]\n",
      "Window iteration #9\n",
      "window shape of current iteration\n",
      "(742, 36, 50)\n",
      "crossvalidation  value #1\n",
      "fit_time\n",
      "[0.36042929 0.36042929 0.36042929 0.36042929 0.32919002]\n",
      "crossvalidation  value #2\n",
      "score_time\n",
      "[0.         0.         0.         0.01561975 0.        ]\n",
      "crossvalidation  value #3\n",
      "test_f_score motion\n",
      "[0.87179487 0.82666667 0.86111111 0.85897436 0.78980892]\n",
      "crossvalidation  value #4\n",
      "test_f_score color\n",
      "[0.85915493 0.82432432 0.86842105 0.84285714 0.76258993]\n",
      "Window iteration #10\n",
      "window shape of current iteration\n",
      "(742, 36, 50)\n",
      "crossvalidation  value #1\n",
      "fit_time\n",
      "[0.51901007 0.49308658 0.47909474 0.52000523 0.44121718]\n",
      "crossvalidation  value #2\n",
      "score_time\n",
      "[0.0109725  0.00797462 0.0089798  0.00797844 0.00798035]\n",
      "crossvalidation  value #3\n",
      "test_f_score motion\n",
      "[0.85897436 0.875      0.85714286 0.76923077 0.85517241]\n",
      "crossvalidation  value #4\n",
      "test_f_score color\n",
      "[0.84507042 0.85507246 0.84507042 0.78431373 0.86092715]\n",
      "Window iteration #11\n",
      "window shape of current iteration\n",
      "(742, 36, 50)\n",
      "crossvalidation  value #1\n",
      "fit_time\n",
      "[0.44619632 0.42858696 0.44221258 0.45687127 0.4392221 ]\n",
      "crossvalidation  value #2\n",
      "score_time\n",
      "[0.         0.         0.01565433 0.         0.        ]\n",
      "crossvalidation  value #3\n",
      "test_f_score motion\n",
      "[0.71621622 0.775      0.77852349 0.76595745 0.7972973 ]\n",
      "crossvalidation  value #4\n",
      "test_f_score color\n",
      "[0.72       0.73913043 0.7755102  0.78709677 0.7972973 ]\n",
      "Window iteration #12\n",
      "window shape of current iteration\n",
      "(742, 36, 50)\n",
      "crossvalidation  value #1\n",
      "fit_time\n",
      "[0.40301704 0.4166503  0.41565466 0.42179012 0.42710781]\n",
      "crossvalidation  value #2\n",
      "score_time\n",
      "[0.         0.00613832 0.         0.0039897  0.        ]\n",
      "crossvalidation  value #3\n",
      "test_f_score motion\n",
      "[0.88888889 0.88157895 0.90066225 0.93959732 0.91156463]\n",
      "crossvalidation  value #4\n",
      "test_f_score color\n",
      "[0.8961039  0.87671233 0.89655172 0.93877551 0.91275168]\n",
      "Window iteration #13\n",
      "window shape of current iteration\n",
      "(742, 36, 50)\n",
      "crossvalidation  value #1\n",
      "fit_time\n",
      "[0.3799727  0.3799727  0.3799727  0.39559484 0.36434841]\n",
      "crossvalidation  value #2\n",
      "score_time\n",
      "[0. 0. 0. 0. 0.]\n",
      "crossvalidation  value #3\n",
      "test_f_score motion\n",
      "[0.82857143 0.83660131 0.79452055 0.8516129  0.80851064]\n",
      "crossvalidation  value #4\n",
      "test_f_score color\n",
      "[0.84810127 0.82758621 0.8        0.83687943 0.82580645]\n",
      "Window iteration #14\n",
      "window shape of current iteration\n",
      "(742, 36, 50)\n",
      "crossvalidation  value #1\n",
      "fit_time\n",
      "[0.29351282 0.30813146 0.30716729 0.3217895  0.30516887]\n",
      "crossvalidation  value #2\n",
      "score_time\n",
      "[0.01561379 0.         0.         0.         0.01562214]\n",
      "crossvalidation  value #3\n",
      "test_f_score motion\n",
      "[0.76335878 0.8        0.71328671 0.80263158 0.73469388]\n",
      "crossvalidation  value #4\n",
      "test_f_score color\n",
      "[0.81437126 0.78321678 0.73202614 0.79166667 0.73825503]\n",
      "Window iteration #15\n",
      "window shape of current iteration\n",
      "(742, 36, 50)\n",
      "crossvalidation  value #1\n",
      "fit_time\n",
      "[0.34651971 0.34651971 0.36214042 0.38150072 0.34651971]\n",
      "crossvalidation  value #2\n",
      "score_time\n",
      "[0.        0.        0.0101347 0.        0.       ]\n",
      "crossvalidation  value #3\n",
      "test_f_score motion\n",
      "[0.72592593 0.77707006 0.75177305 0.81333333 0.80981595]\n",
      "crossvalidation  value #4\n",
      "test_f_score color\n",
      "[0.77300613 0.75177305 0.77419355 0.80821918 0.76691729]\n",
      "Window iteration #16\n",
      "window shape of current iteration\n",
      "(742, 36, 50)\n",
      "crossvalidation  value #1\n",
      "fit_time\n",
      "[0.56161451 0.55463243 0.60486245 0.5500102  0.54801393]\n",
      "crossvalidation  value #2\n",
      "score_time\n",
      "[0.00398993 0.00299382 0.00199485 0.00698137 0.00499821]\n",
      "crossvalidation  value #3\n",
      "test_f_score motion\n",
      "[0.63888889 0.675      0.60273973 0.7755102  0.70588235]\n",
      "crossvalidation  value #4\n",
      "test_f_score color\n",
      "[0.66233766 0.62318841 0.61333333 0.77852349 0.68531469]\n"
     ]
    }
   ],
   "source": [
    "motion_f_score, color_f_score, motion_f_score_std, color_f_score_std = cross_validate_clf(split_area_windows,\n",
    "                                                                                          y_motion_color_area, cv,\n",
    "                                                                                          scoring, clf, folder, area)"
   ]
  },
  {
   "cell_type": "code",
   "execution_count": 56,
   "metadata": {},
   "outputs": [
    {
     "name": "stdout",
     "output_type": "stream",
     "text": [
      "motion_f_score\n",
      "[0.54557983 0.50095355 0.51344447 0.48899767 0.76326948 0.91374551\n",
      " 0.87205268 0.7786636  0.84167119 0.84310408 0.76659889 0.90445841\n",
      " 0.82396337 0.76279419 0.77558366 0.67960423]\n",
      "\n",
      "List lenght (motion_f_score) 16\n"
     ]
    }
   ],
   "source": [
    "#sample of the results\n",
    "print('motion_f_score')\n",
    "print(motion_f_score)\n",
    "\n",
    "print('\\nList lenght (motion_f_score) ' + str(len(motion_f_score)))"
   ]
  },
  {
   "cell_type": "code",
   "execution_count": 57,
   "metadata": {},
   "outputs": [],
   "source": [
    "#plot for mean and using function fill (in between) in matplotlib for standard deviation\n",
    "\n",
    "def plot_decoding_results(motion_f_score, color_f_score, motion_f_score_std, color_f_score_std, folder, area):\n",
    "    plt.plot(time, motion_f_score, label='Motion', marker='.', color='green')\n",
    "    plt.fill_between(time, motion_f_score - motion_f_score_std, motion_f_score + motion_f_score_std, alpha=0.5, color='green')\n",
    "    plt.plot(time, color_f_score, label='Color', marker='.', color='magenta')\n",
    "    plt.fill_between(time, color_f_score - color_f_score_std, color_f_score + color_f_score_std, alpha=0.5, color='magenta')\n",
    "\n",
    "\n",
    "    # horizontal line to exemplify our chance level\n",
    "    y_for_chance = np.repeat(0.50, len(split_area_windows))\n",
    "\n",
    "    plt.plot(time, y_for_chance, '--', c='black')\n",
    "    plt.ylim([0.4, 1])\n",
    "    plt.grid(which='both')\n",
    "    plt.minorticks_on()\n",
    "    plt.xlabel('Time (ms)')\n",
    "    plt.legend(loc='upper right')\n",
    "    plt.ylabel('decoder f-score')\n",
    "\n",
    "    # show y axis as percentage\n",
    "    plt.gca().yaxis.set_major_formatter(ticker.PercentFormatter(xmax=1))\n",
    "    plt.axvline(x=500, c='black')\n",
    "\n",
    "    # vertical lines for cue and stimulus\n",
    "    plt.text(500.1, 0.5, 'Cue', rotation=90)\n",
    "    plt.text(1500.1, 0.5, 'Stimulus', rotation=90)\n",
    "\n",
    "    plt.axvline(x=1500, c='black')\n",
    "    plt.title('Motion and color decoding of area ' + area + '- Raw LFP')\n",
    "    fig = plt.gcf()\n",
    "    fig.set_size_inches(10, 5)\n",
    "    fig.savefig(folder + area + '_motion_color_plot.png', format='png')\n"
   ]
  },
  {
   "cell_type": "code",
   "execution_count": 58,
   "metadata": {},
   "outputs": [
    {
     "data": {
      "image/png": "[encoded data removed]",
      "text/plain": [
       "<Figure size 720x360 with 1 Axes>"
      ]
     },
     "metadata": {
      "needs_background": "light"
     },
     "output_type": "display_data"
    }
   ],
   "source": [
    "plot_decoding_results(motion_f_score, color_f_score, motion_f_score_std, color_f_score_std, folder, area)"
   ]
  },
  {
   "cell_type": "code",
   "execution_count": 59,
   "metadata": {},
   "outputs": [
    {
     "name": "stdout",
     "output_type": "stream",
     "text": [
      "['PFC' 'V4']\n"
     ]
    }
   ],
   "source": [
    "#modelling for V4\n",
    "areas = np.unique(y_motion_elect)\n",
    "print(areas)"
   ]
  },
  {
   "cell_type": "code",
   "execution_count": 60,
   "metadata": {},
   "outputs": [],
   "source": [
    "area = 'V4'"
   ]
  },
  {
   "cell_type": "code",
   "execution_count": 61,
   "metadata": {},
   "outputs": [],
   "source": [
    "time_window = 50\n",
    "cv = 5\n",
    "#folder\n",
    "model_name = 'svm_linear'\n",
    "folder = 'lfp_analysis_motion_color_cv_' + str(cv) + '_'+ model_name +'_'+ str(time_window) + 'ms_' + session + '_' + area +'/'\n",
    "if not os.path.exists(folder):\n",
    "    os.makedirs(folder)"
   ]
  },
  {
   "cell_type": "code",
   "execution_count": 62,
   "metadata": {},
   "outputs": [
    {
     "name": "stdout",
     "output_type": "stream",
     "text": [
      "LinearSVC(C=1.0, class_weight=None, dual=True, fit_intercept=True,\n",
      "     intercept_scaling=1, loss='squared_hinge', max_iter=1000,\n",
      "     multi_class='ovr', penalty='l2', random_state=None, tol=0.0001,\n",
      "     verbose=0)\n"
     ]
    }
   ],
   "source": [
    "#clf = sklearn.ensemble.ExtraTreesClassifier(n_jobs=-1, n_estimators=50)\n",
    "clf = svm.LinearSVC()\n",
    "print(clf)"
   ]
  },
  {
   "cell_type": "code",
   "execution_count": 63,
   "metadata": {},
   "outputs": [
    {
     "name": "stdout",
     "output_type": "stream",
     "text": [
      "(11, 370, 800)\n",
      "(370, 11, 800)\n",
      "(array([0]), array([370], dtype=int64))\n",
      "(11, 372, 800)\n",
      "(372, 11, 800)\n",
      "(array([1]), array([372], dtype=int64))\n",
      "(742, 11, 800)\n",
      "(array([0, 1]), array([370, 372], dtype=int64))\n",
      "<class 'list'>\n",
      "16\n"
     ]
    }
   ],
   "source": [
    "#we also can do all areas at once with:\n",
    "#all_areas = np.unique(y_color_elect)\n",
    "#for area in all_areas:\n",
    "\n",
    "X_motion_area = X_motion[y_motion_elect == area]\n",
    "print(X_motion_area.shape)\n",
    "X_motion_area = np.rollaxis(X_motion_area, 1, 0)\n",
    "print(X_motion_area.shape)\n",
    "#generating the labels for motion\n",
    "y_motion_area = np.repeat(0,int(X_motion_area.shape[0]))\n",
    "print(np.unique(y_motion_area, return_counts=True))\n",
    "\n",
    "X_color_area = X_color[y_color_elect == area]\n",
    "print(X_color_area.shape)\n",
    "X_color_area = np.rollaxis(X_color_area, 1, 0)\n",
    "print(X_color_area.shape)\n",
    "#generating the labels for color\n",
    "y_color_area = np.repeat(1,int(X_color_area.shape[0]))\n",
    "print(np.unique(y_color_area, return_counts=True))\n",
    "\n",
    "#concatenating motion and color by the trials\n",
    "X_motion_color_area = np.concatenate((X_motion_area, X_color_area), axis=0)\n",
    "print(X_motion_color_area.shape)\n",
    "y_motion_color_area = np.concatenate((y_motion_area, y_color_area))\n",
    "print(np.unique(y_motion_color_area, return_counts=True))\n",
    "\n",
    "\n",
    "split_area_windows = np.array_split(X_motion_color_area, X_motion_color_area.shape[2]/time_window, axis=2)\n",
    "\n",
    "\n",
    "#what has been created?\n",
    "print(type(split_area_windows))\n",
    "print(len(split_area_windows))\n",
    "\n",
    "time = np.linspace(50, 2500, num=len(split_area_windows))"
   ]
  },
  {
   "cell_type": "code",
   "execution_count": 64,
   "metadata": {},
   "outputs": [
    {
     "name": "stdout",
     "output_type": "stream",
     "text": [
      "Window iteration #1\n",
      "window shape of current iteration\n",
      "(742, 11, 50)\n",
      "crossvalidation  value #1\n",
      "fit_time\n",
      "[0.56912708 0.6003654  0.53790975 0.740978   0.60038304]\n",
      "crossvalidation  value #2\n",
      "score_time\n",
      "[0. 0. 0. 0. 0.]\n",
      "crossvalidation  value #3\n",
      "test_f_score motion\n",
      "[0.42647059 0.5620915  0.50331126 0.40277778 0.43971631]\n",
      "crossvalidation  value #4\n",
      "test_f_score color\n",
      "[0.51851852 0.53793103 0.48275862 0.43421053 0.49032258]\n",
      "Window iteration #2\n",
      "window shape of current iteration\n",
      "(742, 11, 50)\n",
      "crossvalidation  value #1\n",
      "fit_time\n",
      "[0.53113437 0.48430061 0.5467515  0.54677439 0.53113437]\n",
      "crossvalidation  value #2\n",
      "score_time\n",
      "[0. 0. 0. 0. 0.]\n",
      "crossvalidation  value #3\n",
      "test_f_score motion\n",
      "[0.54304636 0.43356643 0.47741935 0.47682119 0.4       ]\n",
      "crossvalidation  value #4\n",
      "test_f_score color\n",
      "[0.53061224 0.47741935 0.42553191 0.45517241 0.46153846]\n",
      "Window iteration #3\n",
      "window shape of current iteration\n",
      "(742, 11, 50)\n",
      "crossvalidation  value #1\n",
      "fit_time\n",
      "[0.26556516 0.26556516 0.65871882 0.5025382  0.45567131]\n",
      "crossvalidation  value #2\n",
      "score_time\n",
      "[0. 0. 0. 0. 0.]\n",
      "crossvalidation  value #3\n",
      "test_f_score motion\n",
      "[0.48979592 0.5375     0.44285714 0.53146853 0.50340136]\n",
      "crossvalidation  value #4\n",
      "test_f_score color\n",
      "[0.50331126 0.46376812 0.5        0.5620915  0.51006711]\n",
      "Window iteration #4\n",
      "window shape of current iteration\n",
      "(742, 11, 50)\n",
      "crossvalidation  value #1\n",
      "fit_time\n",
      "[0.61950922 0.60388875 0.63515592 0.51016355 0.60388875]\n",
      "crossvalidation  value #2\n",
      "score_time\n",
      "[0.0156467 0.        0.        0.        0.       ]\n",
      "crossvalidation  value #3\n",
      "test_f_score motion\n",
      "[0.55033557 0.39473684 0.53691275 0.51351351 0.49295775]\n",
      "crossvalidation  value #4\n",
      "test_f_score color\n",
      "[0.55033557 0.36986301 0.53061224 0.51351351 0.53246753]\n",
      "Window iteration #5\n",
      "window shape of current iteration\n",
      "(742, 11, 50)\n",
      "crossvalidation  value #1\n",
      "fit_time\n",
      "[0.60106921 0.8041029  0.58543968 0.8041029  0.74164605]\n",
      "crossvalidation  value #2\n",
      "score_time\n",
      "[0. 0. 0. 0. 0.]\n",
      "crossvalidation  value #3\n",
      "test_f_score motion\n",
      "[0.59756098 0.60810811 0.6        0.55629139 0.52413793]\n",
      "crossvalidation  value #4\n",
      "test_f_score color\n",
      "[0.50746269 0.61333333 0.5890411  0.53793103 0.54304636]\n",
      "Window iteration #6\n",
      "window shape of current iteration\n",
      "(742, 11, 50)\n",
      "crossvalidation  value #1\n",
      "fit_time\n",
      "[0.71164441 0.69601822 0.93033457 0.74291039 0.96157622]\n",
      "crossvalidation  value #2\n",
      "score_time\n",
      "[0. 0. 0. 0. 0.]\n",
      "crossvalidation  value #3\n",
      "test_f_score motion\n",
      "[0.63694268 0.62937063 0.6122449  0.6013986  0.63945578]\n",
      "crossvalidation  value #4\n",
      "test_f_score color\n",
      "[0.59574468 0.65806452 0.61744966 0.62745098 0.6442953 ]\n",
      "Window iteration #7\n",
      "window shape of current iteration\n",
      "(742, 11, 50)\n",
      "crossvalidation  value #1\n",
      "fit_time\n",
      "[0.50940347 0.54066896 0.4937849  0.50940347 0.47815919]\n",
      "crossvalidation  value #2\n",
      "score_time\n",
      "[0.         0.         0.         0.         0.01561856]\n",
      "crossvalidation  value #3\n",
      "test_f_score motion\n",
      "[0.69064748 0.62666667 0.66216216 0.71942446 0.59863946]\n",
      "crossvalidation  value #4\n",
      "test_f_score color\n",
      "[0.72955975 0.62162162 0.66216216 0.75159236 0.60402685]\n",
      "Window iteration #8\n",
      "window shape of current iteration\n",
      "(742, 11, 50)\n",
      "crossvalidation  value #1\n",
      "fit_time\n",
      "[0.50802922 0.53923106 0.46115518 0.46115518 0.55487633]\n",
      "crossvalidation  value #2\n",
      "score_time\n",
      "[0.         0.         0.         0.01562119 0.        ]\n",
      "crossvalidation  value #3\n",
      "test_f_score motion\n",
      "[0.69014085 0.64335664 0.68918919 0.71621622 0.62686567]\n",
      "crossvalidation  value #4\n",
      "test_f_score color\n",
      "[0.71794872 0.67096774 0.68918919 0.71621622 0.69135802]\n",
      "Window iteration #9\n",
      "window shape of current iteration\n",
      "(742, 11, 50)\n",
      "crossvalidation  value #1\n",
      "fit_time\n",
      "[0.57105708 0.64919019 0.55543995 0.55548096 0.58675051]\n",
      "crossvalidation  value #2\n",
      "score_time\n",
      "[0. 0. 0. 0. 0.]\n",
      "crossvalidation  value #3\n",
      "test_f_score motion\n",
      "[0.5984252  0.61538462 0.66225166 0.64335664 0.58394161]\n",
      "crossvalidation  value #4\n",
      "test_f_score color\n",
      "[0.70175439 0.57746479 0.64827586 0.66666667 0.64150943]\n",
      "Window iteration #10\n",
      "window shape of current iteration\n",
      "(742, 11, 50)\n",
      "crossvalidation  value #1\n",
      "fit_time\n",
      "[0.64761662 0.53827453 0.66324377 0.72571635 0.81944013]\n",
      "crossvalidation  value #2\n",
      "score_time\n",
      "[0.         0.         0.         0.         0.01565099]\n",
      "crossvalidation  value #3\n",
      "test_f_score motion\n",
      "[0.61538462 0.63013699 0.69333333 0.59863946 0.67123288]\n",
      "crossvalidation  value #4\n",
      "test_f_score color\n",
      "[0.70238095 0.64473684 0.68493151 0.60402685 0.68      ]\n",
      "Window iteration #11\n",
      "window shape of current iteration\n",
      "(742, 11, 50)\n",
      "crossvalidation  value #1\n",
      "fit_time\n",
      "[0.36928296 0.33804107 0.3849268  0.35366678 0.35366678]\n",
      "crossvalidation  value #2\n",
      "score_time\n",
      "[0. 0. 0. 0. 0.]\n",
      "crossvalidation  value #3\n",
      "test_f_score motion\n",
      "[0.73770492 0.82993197 0.82857143 0.80503145 0.80769231]\n",
      "crossvalidation  value #4\n",
      "test_f_score color\n",
      "[0.81818182 0.83443709 0.84615385 0.77372263 0.78571429]\n",
      "Window iteration #12\n",
      "window shape of current iteration\n",
      "(742, 11, 50)\n",
      "crossvalidation  value #1\n",
      "fit_time\n",
      "[0.5452342  0.48272562 0.59212327 0.60771918 0.60771918]\n",
      "crossvalidation  value #2\n",
      "score_time\n",
      "[0. 0. 0. 0. 0.]\n",
      "crossvalidation  value #3\n",
      "test_f_score motion\n",
      "[0.75968992 0.82758621 0.83687943 0.8028169  0.83561644]\n",
      "crossvalidation  value #4\n",
      "test_f_score color\n",
      "[0.81656805 0.83660131 0.8516129  0.81818182 0.84      ]\n",
      "Window iteration #13\n",
      "window shape of current iteration\n",
      "(742, 11, 50)\n",
      "crossvalidation  value #1\n",
      "fit_time\n",
      "[0.32489705 0.32489705 0.37175393 0.30927587 0.32492876]\n",
      "crossvalidation  value #2\n",
      "score_time\n",
      "[0. 0. 0. 0. 0.]\n",
      "crossvalidation  value #3\n",
      "test_f_score motion\n",
      "[0.71641791 0.71111111 0.78082192 0.85526316 0.81333333]\n",
      "crossvalidation  value #4\n",
      "test_f_score color\n",
      "[0.76829268 0.7607362  0.78666667 0.84722222 0.80821918]\n",
      "Window iteration #14\n",
      "window shape of current iteration\n",
      "(742, 11, 50)\n",
      "crossvalidation  value #1\n",
      "fit_time\n",
      "[0.60299182 0.77600121 0.55612874 0.6198194  0.63544559]\n",
      "crossvalidation  value #2\n",
      "score_time\n",
      "[0. 0. 0. 0. 0.]\n",
      "crossvalidation  value #3\n",
      "test_f_score motion\n",
      "[0.70056497 0.72483221 0.73333333 0.72972973 0.72592593]\n",
      "crossvalidation  value #4\n",
      "test_f_score color\n",
      "[0.56198347 0.72483221 0.7260274  0.72972973 0.77018634]\n",
      "Window iteration #15\n",
      "window shape of current iteration\n",
      "(742, 11, 50)\n",
      "crossvalidation  value #1\n",
      "fit_time\n",
      "[0.68581104 0.69919395 0.69919395 0.77733731 0.839818  ]\n",
      "crossvalidation  value #2\n",
      "score_time\n",
      "[0.00199318 0.         0.         0.         0.        ]\n",
      "crossvalidation  value #3\n",
      "test_f_score motion\n",
      "[0.67096774 0.7133758  0.7027027  0.70422535 0.70503597]\n",
      "crossvalidation  value #4\n",
      "test_f_score color\n",
      "[0.64335664 0.68085106 0.7027027  0.72727273 0.7388535 ]\n",
      "Window iteration #16\n",
      "window shape of current iteration\n",
      "(742, 11, 50)\n",
      "crossvalidation  value #1\n",
      "fit_time\n",
      "[0.57624006 0.53235602 0.68912458 0.72330594 0.73055458]\n",
      "crossvalidation  value #2\n",
      "score_time\n",
      "[0.00199366 0.00199366 0.0019629  0.00196791 0.        ]\n",
      "crossvalidation  value #3\n",
      "test_f_score motion\n",
      "[0.57971014 0.56756757 0.5890411  0.66666667 0.68      ]\n",
      "crossvalidation  value #4\n",
      "test_f_score color\n",
      "[0.6375     0.57333333 0.6        0.70886076 0.67123288]\n"
     ]
    }
   ],
   "source": [
    "motion_f_score, color_f_score, motion_f_score_std, color_f_score_std = cross_validate_clf(split_area_windows,\n",
    "                                                                                          y_motion_color_area, cv,\n",
    "                                                                                          scoring, clf, folder, area)"
   ]
  },
  {
   "cell_type": "code",
   "execution_count": 65,
   "metadata": {},
   "outputs": [
    {
     "data": {
      "image/png": "[encoded data removed]",
      "text/plain": [
       "<Figure size 720x360 with 1 Axes>"
      ]
     },
     "metadata": {
      "needs_background": "light"
     },
     "output_type": "display_data"
    }
   ],
   "source": [
    "plot_decoding_results(motion_f_score, color_f_score, motion_f_score_std, color_f_score_std, folder, area)"
   ]
  },
  {
   "cell_type": "code",
   "execution_count": null,
   "metadata": {},
   "outputs": [],
   "source": []
  }
 ],
 "metadata": {
  "kernelspec": {
   "display_name": "Python 3",
   "language": "python",
   "name": "python3"
  },
  "language_info": {
   "codemirror_mode": {
    "name": "ipython",
    "version": 3
   },
   "file_extension": ".py",
   "mimetype": "text/x-python",
   "name": "python",
   "nbconvert_exporter": "python",
   "pygments_lexer": "ipython3",
   "version": "3.6.8"
  }
 },
 "nbformat": 4,
 "nbformat_minor": 2
}
